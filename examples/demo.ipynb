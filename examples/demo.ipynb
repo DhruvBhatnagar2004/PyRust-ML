{
 "cells": [
  {
   "cell_type": "markdown",
   "id": "331e6ebc",
   "metadata": {},
   "source": [
    "# PyRust-ML: High-Performance Machine Learning Toolkit Demo\n",
    "\n",
    "Welcome to **PyRust-ML** - a demonstration of building high-performance machine learning algorithms using **Rust** with **Python** bindings via **PyO3**.\n",
    "\n",
    "## 🎯 Project Overview\n",
    "\n",
    "This notebook demonstrates how to:\n",
    "- Build ML algorithms in Rust for maximum performance\n",
    "- Create Python bindings using PyO3 for easy integration\n",
    "- Benchmark Rust vs Python implementations\n",
    "- Create an interactive Streamlit dashboard for visualization\n",
    "\n",
    "## 🚀 Key Features\n",
    "\n",
    "- **Linear Regression** with Ordinary Least Squares\n",
    "- **Support Vector Machine** with linear kernel\n",
    "- **K-Means Clustering** with parallel processing\n",
    "- **Performance Benchmarking** against scikit-learn\n",
    "- **Interactive Dashboard** for real-time comparisons\n",
    "\n",
    "Let's get started! 🔥"
   ]
  },
  {
   "cell_type": "markdown",
   "id": "4a44da36",
   "metadata": {},
   "source": [
    "## 1. Environment Setup and Dependencies\n",
    "\n",
    "First, let's install and configure the required dependencies for our Rust-Python integration project."
   ]
  },
  {
   "cell_type": "code",
   "execution_count": null,
   "id": "2fc37a5f",
   "metadata": {},
   "outputs": [],
   "source": [
    "# Install required Python packages\n",
    "import subprocess\n",
    "import sys\n",
    "\n",
    "def install_package(package):\n",
    "    subprocess.check_call([sys.executable, \"-m\", \"pip\", \"install\", package])\n",
    "\n",
    "# Required packages\n",
    "packages = [\n",
    "    \"numpy>=1.20.0\",\n",
    "    \"scikit-learn>=1.0.0\", \n",
    "    \"pandas>=1.3.0\",\n",
    "    \"matplotlib>=3.4.0\",\n",
    "    \"seaborn>=0.11.0\",\n",
    "    \"plotly>=5.0.0\",\n",
    "    \"streamlit>=1.28.0\",\n",
    "    \"maturin>=1.0.0\"\n",
    "]\n",
    "\n",
    "print(\"Installing required packages...\")\n",
    "for package in packages:\n",
    "    try:\n",
    "        install_package(package)\n",
    "        print(f\"✅ {package}\")\n",
    "    except Exception as e:\n",
    "        print(f\"❌ Failed to install {package}: {e}\")\n",
    "\n",
    "print(\"📦 Package installation completed!\")"
   ]
  },
  {
   "cell_type": "code",
   "execution_count": null,
   "id": "ef7140bd",
   "metadata": {},
   "outputs": [],
   "source": [
    "# Check Rust installation\n",
    "import subprocess\n",
    "import os\n",
    "\n",
    "def check_rust_installation():\n",
    "    try:\n",
    "        result = subprocess.run(['rustc', '--version'], capture_output=True, text=True)\n",
    "        if result.returncode == 0:\n",
    "            print(f\"✅ Rust compiler: {result.stdout.strip()}\")\n",
    "        else:\n",
    "            print(\"❌ Rust not found. Please install Rust from https://rustup.rs/\")\n",
    "            return False\n",
    "            \n",
    "        result = subprocess.run(['cargo', '--version'], capture_output=True, text=True)\n",
    "        if result.returncode == 0:\n",
    "            print(f\"✅ Cargo: {result.stdout.strip()}\")\n",
    "        else:\n",
    "            print(\"❌ Cargo not found\")\n",
    "            return False\n",
    "            \n",
    "        return True\n",
    "    except FileNotFoundError:\n",
    "        print(\"❌ Rust not found. Please install Rust from https://rustup.rs/\")\n",
    "        return False\n",
    "\n",
    "rust_available = check_rust_installation()\n",
    "\n",
    "if rust_available:\n",
    "    print(\"🦀 Rust environment is ready!\")\n",
    "else:\n",
    "    print(\"⚠️  You'll need to install Rust to build the full project\")\n",
    "    print(\"   For this demo, we'll focus on the Python components\")"
   ]
  }
 ],
 "metadata": {
  "language_info": {
   "name": "python"
  }
 },
 "nbformat": 4,
 "nbformat_minor": 5
}
